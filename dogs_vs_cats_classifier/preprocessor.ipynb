{
 "cells": [
  {
   "cell_type": "code",
   "execution_count": 4,
   "metadata": {
    "collapsed": true
   },
   "outputs": [],
   "source": [
    "from shutil import copyfile"
   ]
  },
  {
   "cell_type": "code",
   "execution_count": 2,
   "metadata": {
    "collapsed": true
   },
   "outputs": [],
   "source": [
    "train_img_count = 10000\n",
    "validation_img_count = 2000"
   ]
  },
  {
   "cell_type": "code",
   "execution_count": null,
   "metadata": {
    "collapsed": true
   },
   "outputs": [],
   "source": [
    "src_path_prefix = '/home/xxx/dataset/dogs_vs_cats/train/cats/cat.'\n",
    "dst_path_prefix = '/home/xxx/workspace/dogs_vs_cats/data/train/cats/cat'\n",
    "\n",
    "for i in range(train_img_count):\n",
    "    copyfile(src_path_prefix + str(i) + '.jpg', dst_path_prefix + str(i).zfill(3) + '.jpg')"
   ]
  },
  {
   "cell_type": "code",
   "execution_count": null,
   "metadata": {
    "collapsed": true
   },
   "outputs": [],
   "source": [
    "src_path_prefix = '/home/xxx/dataset/dogs_vs_cats/train/dogs/dog.'\n",
    "dst_path_prefix = '/home/xxx/workspace/dogs_vs_cats/data/train/dogs/dog'\n",
    "\n",
    "for i in range(train_img_count):\n",
    "    copyfile(src_path_prefix + str(i) + '.jpg', dst_path_prefix + str(i).zfill(3) + '.jpg')"
   ]
  },
  {
   "cell_type": "code",
   "execution_count": null,
   "metadata": {
    "collapsed": true
   },
   "outputs": [],
   "source": [
    "src_path_prefix = '/home/xxx/dataset/dogs_vs_cats/train/cats/cat.'\n",
    "dst_path_prefix = '/home/xxx/workspace/dogs_vs_cats/data/validation/cats/cat'\n",
    "\n",
    "for i in range(train_img_count, train_img_count + validation_img_count):\n",
    "    copyfile(src_path_prefix + str(i) + '.jpg', dst_path_prefix + str(i-train_img_count).zfill(3) + '.jpg')"
   ]
  },
  {
   "cell_type": "code",
   "execution_count": null,
   "metadata": {
    "collapsed": true
   },
   "outputs": [],
   "source": [
    "src_path_prefix = '/home/xxx/dataset/dogs_vs_cats/train/dogs/dog.'\n",
    "dst_path_prefix = '/home/xxx/workspace/dogs_vs_cats/data/validation/dogs/dog'\n",
    "\n",
    "for i in range(train_img_count, train_img_count + validation_img_count):\n",
    "    copyfile(src_path_prefix + str(i) + '.jpg', dst_path_prefix + str(i-train_img_count).zfill(3) + '.jpg')"
   ]
  },
  {
   "cell_type": "code",
   "execution_count": 6,
   "metadata": {
    "collapsed": true
   },
   "outputs": [],
   "source": [
    "src_path_prefix = '/home/xxx/dataset/dogs_vs_cats/test/'\n",
    "dst_path_prefix = '/home/xxx/workspace/dogs_vs_cats/data/test/'\n",
    "\n",
    "for i in range(train_img_count, train_img_count + validation_img_count):\n",
    "    copyfile(src_path_prefix + str(i) + '.jpg', dst_path_prefix + str(i-train_img_count).zfill(3) + '.jpg')"
   ]
  }
 ],
 "metadata": {
  "kernelspec": {
   "display_name": "Python 3",
   "language": "python",
   "name": "python3"
  },
  "language_info": {
   "codemirror_mode": {
    "name": "ipython",
    "version": 3
   },
   "file_extension": ".py",
   "mimetype": "text/x-python",
   "name": "python",
   "nbconvert_exporter": "python",
   "pygments_lexer": "ipython3",
   "version": "3.5.2+"
  }
 },
 "nbformat": 4,
 "nbformat_minor": 2
}
